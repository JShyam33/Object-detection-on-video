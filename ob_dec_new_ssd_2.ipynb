{
  "nbformat": 4,
  "nbformat_minor": 0,
  "metadata": {
    "colab": {
      "name": "ob_dec_new_ssd_2.ipynb",
      "version": "0.3.2",
      "provenance": [],
      "collapsed_sections": [],
      "include_colab_link": true
    },
    "kernelspec": {
      "name": "python3",
      "display_name": "Python 3"
    }
  },
  "cells": [
    {
      "cell_type": "markdown",
      "metadata": {
        "id": "view-in-github",
        "colab_type": "text"
      },
      "source": [
        "<a href=\"https://colab.research.google.com/github/JShyam33/Object-detection-on-video/blob/master/ob_dec_new_ssd_2.ipynb\" target=\"_parent\"><img src=\"https://colab.research.google.com/assets/colab-badge.svg\" alt=\"Open In Colab\"/></a>"
      ]
    },
    {
      "cell_type": "markdown",
      "metadata": {
        "id": "mr2Rjy6Xbega",
        "colab_type": "text"
      },
      "source": [
        "**Object Detection with SSD Mobilenet**<br>\n",
        "<ul>\n",
        "  <li>The First step is to clone the github repository of tensorflow models</li>\n",
        "  <li>Install and run protobuf</li>\n",
        "  <li>Change directory name for convience</li>\n",
        "</ul>\n"
      ]
    },
    {
      "cell_type": "code",
      "metadata": {
        "id": "pbiA5CtfFBoq",
        "colab_type": "code",
        "colab": {}
      },
      "source": [
        "!git clone https://github.com/tensorflow/models.git\n",
        "!apt-get -qq install libprotobuf-java protobuf-compiler\n",
        "!protoc ./models/research/object_detection/protos/string_int_label_map.proto --python_out=.\n",
        "!cp -R models/research/object_detection/g3doc/ object_detection/\n",
        "!rm -rf models"
      ],
      "execution_count": 0,
      "outputs": []
    },
    {
      "cell_type": "markdown",
      "metadata": {
        "id": "MS8hcnM8dJ3B",
        "colab_type": "text"
      },
      "source": [
        "Import all dependent modules."
      ]
    },
    {
      "cell_type": "code",
      "metadata": {
        "id": "3_P9BFQwFlAi",
        "colab_type": "code",
        "colab": {}
      },
      "source": [
        "import numpy as np\n",
        "import os\n",
        "import six.moves.urllib as urllib\n",
        "import sys\n",
        "import tarfile\n",
        "import tensorflow as tf\n",
        "import zipfile\n",
        "\n",
        "from distutils.version import StrictVersion\n",
        "from collections import defaultdict\n",
        "from io import StringIO\n",
        "from matplotlib import pyplot as plt\n",
        "from PIL import Image\n",
        "%pylab inline\n",
        "import matplotlib.pyplot as plt\n",
        "import matplotlib.image as mpimg\n",
        "\n",
        "import io\n",
        "import base64\n",
        "from IPython.display import HTML\n",
        "\n",
        "import cv2\n",
        "from google.colab.patches import cv2_imshow\n",
        "vid_path = 'traffic2.mp4'\n",
        "cap = cv2.VideoCapture(vid_path)\n",
        "# This is needed since the notebook is stored in the object_detection folder.\n",
        "sys.path.append(\"..\")\n",
        "from object_detection.utils import ops as utils_ops\n",
        "\n",
        "#if StrictVersion(tf.__version__) < StrictVersion('1.12.0'):\n",
        " # raise ImportError('Please upgrade your TensorFlow installation to v1.12.*.')"
      ],
      "execution_count": 0,
      "outputs": []
    },
    {
      "cell_type": "code",
      "metadata": {
        "id": "vEBreX-FHJhq",
        "colab_type": "code",
        "colab": {}
      },
      "source": [
        "# This is needed to display the images.\n",
        "%matplotlib inline"
      ],
      "execution_count": 0,
      "outputs": []
    },
    {
      "cell_type": "code",
      "metadata": {
        "id": "ID4BVlk2HPtQ",
        "colab_type": "code",
        "colab": {}
      },
      "source": [
        "from object_detection.utils import label_map_util\n",
        "\n",
        "from object_detection.utils import visualization_utils as vis_util"
      ],
      "execution_count": 0,
      "outputs": []
    },
    {
      "cell_type": "markdown",
      "metadata": {
        "id": "3bERDa2mdUsa",
        "colab_type": "text"
      },
      "source": [
        "We chosse the Model SSD Mobilenet from the range of models found at tensorflow model Zoo."
      ]
    },
    {
      "cell_type": "code",
      "metadata": {
        "id": "dCXLDJymHcO7",
        "colab_type": "code",
        "colab": {}
      },
      "source": [
        "# What model to download.\n",
        "MODEL_NAME = 'ssd_mobilenet_v1_fpn_shared_box_predictor_640x640_coco14_sync_2018_07_03'\n",
        "MODEL_FILE = MODEL_NAME + '.tar.gz'\n",
        "DOWNLOAD_BASE = 'http://download.tensorflow.org/models/object_detection/'\n",
        "\n",
        "# Path to frozen detection graph. This is the actual model that is used for the object detection.\n",
        "PATH_TO_FROZEN_GRAPH = MODEL_NAME + '/frozen_inference_graph.pb'\n",
        "\n",
        "# List of the strings that is used to add correct label for each box.\n",
        "PATH_TO_LABELS = os.path.join('object_detection/data', 'mscoco_label_map.pbtxt')\n",
        "print(PATH_TO_LABELS)"
      ],
      "execution_count": 0,
      "outputs": []
    },
    {
      "cell_type": "markdown",
      "metadata": {
        "id": "zgSCWztpdkfv",
        "colab_type": "text"
      },
      "source": [
        "Download the choosen model."
      ]
    },
    {
      "cell_type": "code",
      "metadata": {
        "id": "fSNSSRyPHnos",
        "colab_type": "code",
        "colab": {}
      },
      "source": [
        "opener = urllib.request.URLopener()\n",
        "\n",
        "opener.retrieve(DOWNLOAD_BASE + MODEL_FILE, MODEL_FILE)\n",
        "\n",
        "\n",
        "tar_file = tarfile.open(MODEL_FILE)\n",
        "for file in tar_file.getmembers():\n",
        "  file_name = os.path.basename(file.name)\n",
        "  if 'frozen_inference_graph.pb' in file_name:\n",
        "    tar_file.extract(file, os.getcwd())\n"
      ],
      "execution_count": 0,
      "outputs": []
    },
    {
      "cell_type": "markdown",
      "metadata": {
        "id": "Tl53tXL5dp4Q",
        "colab_type": "text"
      },
      "source": [
        "Extract the tar file and Retrive the frozzen graph / our model. "
      ]
    },
    {
      "cell_type": "code",
      "metadata": {
        "id": "ONzBjqrQH2S7",
        "colab_type": "code",
        "colab": {}
      },
      "source": [
        "detection_graph = tf.Graph()\n",
        "with detection_graph.as_default():\n",
        "  od_graph_def = tf.GraphDef()\n",
        "  with tf.gfile.GFile(PATH_TO_FROZEN_GRAPH, 'rb') as fid:\n",
        "    serialized_graph = fid.read()\n",
        "    od_graph_def.ParseFromString(serialized_graph)\n",
        "    tf.import_graph_def(od_graph_def, name='')"
      ],
      "execution_count": 0,
      "outputs": []
    },
    {
      "cell_type": "code",
      "metadata": {
        "id": "IB_uWxdXIyvW",
        "colab_type": "code",
        "colab": {}
      },
      "source": [
        "category_index = label_map_util.create_category_index_from_labelmap(PATH_TO_LABELS, use_display_name=True)"
      ],
      "execution_count": 0,
      "outputs": []
    },
    {
      "cell_type": "markdown",
      "metadata": {
        "id": "x-1WbjcXeDwu",
        "colab_type": "text"
      },
      "source": [
        "To load image to numpy array."
      ]
    },
    {
      "cell_type": "code",
      "metadata": {
        "id": "n9XmCsihIyqO",
        "colab_type": "code",
        "colab": {}
      },
      "source": [
        "def load_image_into_numpy_array(image):\n",
        "  (im_width, im_height) = image.size\n",
        "  return np.array(image.getdata()).reshape(\n",
        "      (im_height, im_width, 3)).astype(np.uint8)"
      ],
      "execution_count": 0,
      "outputs": []
    },
    {
      "cell_type": "markdown",
      "metadata": {
        "id": "VZlm2jkbeVDd",
        "colab_type": "text"
      },
      "source": [
        "This is main function that runs over each frame/image.<br>\n",
        "create session and graph.<br>\n",
        "And run the session over each image and it will generate boxes around objects.<br>\n",
        "Return the processed output."
      ]
    },
    {
      "cell_type": "code",
      "metadata": {
        "id": "anjQuddwKxcv",
        "colab_type": "code",
        "colab": {}
      },
      "source": [
        "def run_inference_for_single_image(image, graph):\n",
        "  with graph.as_default():\n",
        "    with tf.Session() as sess:\n",
        "      # Get handles to input and output tensors\n",
        "      ops = tf.get_default_graph().get_operations()\n",
        "      all_tensor_names = {output.name for op in ops for output in op.outputs}\n",
        "      tensor_dict = {}\n",
        "      for key in [\n",
        "          'num_detections', 'detection_boxes', 'detection_scores',\n",
        "          'detection_classes', 'detection_masks'\n",
        "      ]:\n",
        "        tensor_name = key + ':0'\n",
        "        if tensor_name in all_tensor_names:\n",
        "          tensor_dict[key] = tf.get_default_graph().get_tensor_by_name(\n",
        "              tensor_name)\n",
        "      if 'detection_masks' in tensor_dict:\n",
        "        # The following processing is only for single image\n",
        "        detection_boxes = tf.squeeze(tensor_dict['detection_boxes'], [0])\n",
        "        detection_masks = tf.squeeze(tensor_dict['detection_masks'], [0])\n",
        "        # Reframe is required to translate mask from box coordinates to image coordinates and fit the image size.\n",
        "        real_num_detection = tf.cast(tensor_dict['num_detections'][0], tf.int32)\n",
        "        detection_boxes = tf.slice(detection_boxes, [0, 0], [real_num_detection, -1])\n",
        "        detection_masks = tf.slice(detection_masks, [0, 0, 0], [real_num_detection, -1, -1])\n",
        "        detection_masks_reframed = utils_ops.reframe_box_masks_to_image_masks(\n",
        "            detection_masks, detection_boxes, image.shape[1], image.shape[2])\n",
        "        detection_masks_reframed = tf.cast(\n",
        "            tf.greater(detection_masks_reframed, 0.5), tf.uint8)\n",
        "        # Follow the convention by adding back the batch dimension\n",
        "        tensor_dict['detection_masks'] = tf.expand_dims(\n",
        "            detection_masks_reframed, 0)\n",
        "      image_tensor = tf.get_default_graph().get_tensor_by_name('image_tensor:0')\n",
        "\n",
        "      # Run inference\n",
        "      output_dict = sess.run(tensor_dict,\n",
        "                             feed_dict={image_tensor: image})\n",
        "\n",
        "      # all outputs are float32 numpy arrays, so convert types as appropriate\n",
        "      output_dict['num_detections'] = int(output_dict['num_detections'][0])\n",
        "      output_dict['detection_classes'] = output_dict[\n",
        "          'detection_classes'][0].astype(np.int64)\n",
        "      output_dict['detection_boxes'] = output_dict['detection_boxes'][0]\n",
        "      output_dict['detection_scores'] = output_dict['detection_scores'][0]\n",
        "      if 'detection_masks' in output_dict:\n",
        "        output_dict['detection_masks'] = output_dict['detection_masks'][0]\n",
        "  return output_dict"
      ],
      "execution_count": 0,
      "outputs": []
    },
    {
      "cell_type": "markdown",
      "metadata": {
        "id": "Bkgw164qfRNX",
        "colab_type": "text"
      },
      "source": [
        "This is where the magic happens.<br>\n",
        "with default session and graph we read video one frame at a time.<br>\n",
        "we pass each image to abovre function and the with builtin function we visualize the output boxes in the image.<br>\n",
        "we then write the image through videowriter.<br>\n",
        "we also provide break condition when all the images of video are processed"
      ]
    },
    {
      "cell_type": "code",
      "metadata": {
        "id": "KwV771XVLG3z",
        "colab_type": "code",
        "colab": {}
      },
      "source": [
        "\n",
        "out = cv2.VideoWriter('output2.avi',cv2.VideoWriter_fourcc(*'XVID'), 30, (int(cap.get(3)),int(cap.get(4))))\n",
        "\n",
        "\n",
        "\n",
        "with detection_graph.as_default():\n",
        "  with tf.Session(graph = detection_graph) as sess:\n",
        "    while True:\n",
        "      ret , image_np = cap.read()\n",
        "      # Expand dimensions since the model expects images to have shape: [1, None, None, 3]\n",
        "      if ret:\n",
        "        \n",
        "        image_np_expanded = np.expand_dims(image_np, axis=0)\n",
        "        # Actual detection.\n",
        "        output_dict = run_inference_for_single_image(image_np_expanded, detection_graph)\n",
        "        # Visualization of the results of a detection.\n",
        "        vis_util.visualize_boxes_and_labels_on_image_array(\n",
        "            image_np,\n",
        "            output_dict['detection_boxes'],\n",
        "            output_dict['detection_classes'],\n",
        "            output_dict['detection_scores'],\n",
        "            category_index,\n",
        "            instance_masks=output_dict.get('detection_masks'),\n",
        "            use_normalized_coordinates=True,\n",
        "            line_thickness=8)\n",
        "        out.write(image_np)\n",
        "        print('frame')\n",
        "      else:\n",
        "        out.release()\n",
        "        cap.release()\n",
        "        cv2.destroyAllWindows()\n",
        "        print('failed')\n",
        "        break\n",
        "\n"
      ],
      "execution_count": 0,
      "outputs": []
    }
  ]
}